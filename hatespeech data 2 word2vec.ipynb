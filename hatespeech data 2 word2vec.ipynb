{
 "cells": [
  {
   "cell_type": "markdown",
   "id": "63796133",
   "metadata": {},
   "source": [
    "### This was done to see if changing the dataset can improve the accuracy of the prediction. So, we got a dataset that had considerably cleaner data that the previous one and applied the same steps as before. The accuracy improved for both logistic and dense layer models. In logistic regression we got the accuracy of 82% where as in Dense network we got accuracy from 86% to 90% on different samples. That's a very good improvement from what we got in the previos version."
   ]
  },
  {
   "cell_type": "code",
   "execution_count": null,
   "id": "21e5ca46",
   "metadata": {},
   "outputs": [],
   "source": [
    "import numpy as np\n",
    "import pandas as pd\n",
    "from sklearn.model_selection import train_test_split\n",
    "from nltk.corpus import stopwords\n",
    "from nltk.tokenize import word_tokenize\n",
    "import string\n",
    "from gensim.models import Word2Vec\n",
    "from sklearn.linear_model import LogisticRegression\n",
    "from sklearn.metrics import accuracy_score, precision_score, recall_score, f1_score"
   ]
  },
  {
   "cell_type": "code",
   "execution_count": 108,
   "id": "63fd3ce6",
   "metadata": {},
   "outputs": [],
   "source": [
    "data = pd.read_csv(r'C:\\Users\\Dell\\Documents\\projects\\hate speech detection\\hate-speech-and-offensive-language-master\\data2\\HateSpeechDetection.csv')"
   ]
  },
  {
   "cell_type": "code",
   "execution_count": 109,
   "id": "6441b0b6",
   "metadata": {},
   "outputs": [
    {
     "data": {
      "text/html": [
       "<div>\n",
       "<style scoped>\n",
       "    .dataframe tbody tr th:only-of-type {\n",
       "        vertical-align: middle;\n",
       "    }\n",
       "\n",
       "    .dataframe tbody tr th {\n",
       "        vertical-align: top;\n",
       "    }\n",
       "\n",
       "    .dataframe thead th {\n",
       "        text-align: right;\n",
       "    }\n",
       "</style>\n",
       "<table border=\"1\" class=\"dataframe\">\n",
       "  <thead>\n",
       "    <tr style=\"text-align: right;\">\n",
       "      <th></th>\n",
       "      <th>Platform</th>\n",
       "      <th>Comment</th>\n",
       "      <th>Hateful</th>\n",
       "    </tr>\n",
       "  </thead>\n",
       "  <tbody>\n",
       "    <tr>\n",
       "      <th>0</th>\n",
       "      <td>Reddit</td>\n",
       "      <td>Damn I thought they had strict gun laws in Ger...</td>\n",
       "      <td>0</td>\n",
       "    </tr>\n",
       "    <tr>\n",
       "      <th>1</th>\n",
       "      <td>Reddit</td>\n",
       "      <td>I dont care about what it stands for or anythi...</td>\n",
       "      <td>0</td>\n",
       "    </tr>\n",
       "    <tr>\n",
       "      <th>2</th>\n",
       "      <td>Reddit</td>\n",
       "      <td>It's not a group it's an idea lol</td>\n",
       "      <td>0</td>\n",
       "    </tr>\n",
       "    <tr>\n",
       "      <th>3</th>\n",
       "      <td>Reddit</td>\n",
       "      <td>So it's not just America!</td>\n",
       "      <td>0</td>\n",
       "    </tr>\n",
       "    <tr>\n",
       "      <th>4</th>\n",
       "      <td>Reddit</td>\n",
       "      <td>The dog is a spectacular dancer considering he...</td>\n",
       "      <td>0</td>\n",
       "    </tr>\n",
       "    <tr>\n",
       "      <th>...</th>\n",
       "      <td>...</td>\n",
       "      <td>...</td>\n",
       "      <td>...</td>\n",
       "    </tr>\n",
       "    <tr>\n",
       "      <th>2995</th>\n",
       "      <td>4Chan</td>\n",
       "      <td>This is what Kike shilling looks like. Ryan ha...</td>\n",
       "      <td>1</td>\n",
       "    </tr>\n",
       "    <tr>\n",
       "      <th>2996</th>\n",
       "      <td>4Chan</td>\n",
       "      <td>Not bait, they're right</td>\n",
       "      <td>0</td>\n",
       "    </tr>\n",
       "    <tr>\n",
       "      <th>2997</th>\n",
       "      <td>4Chan</td>\n",
       "      <td>I like this one a lot.</td>\n",
       "      <td>0</td>\n",
       "    </tr>\n",
       "    <tr>\n",
       "      <th>2998</th>\n",
       "      <td>4Chan</td>\n",
       "      <td>Kikes making money off heroin what’s new</td>\n",
       "      <td>1</td>\n",
       "    </tr>\n",
       "    <tr>\n",
       "      <th>2999</th>\n",
       "      <td>4Chan</td>\n",
       "      <td>Desecrate men by making them gay/trannies, and...</td>\n",
       "      <td>1</td>\n",
       "    </tr>\n",
       "  </tbody>\n",
       "</table>\n",
       "<p>3000 rows × 3 columns</p>\n",
       "</div>"
      ],
      "text/plain": [
       "     Platform                                            Comment  Hateful\n",
       "0      Reddit  Damn I thought they had strict gun laws in Ger...        0\n",
       "1      Reddit  I dont care about what it stands for or anythi...        0\n",
       "2      Reddit                  It's not a group it's an idea lol        0\n",
       "3      Reddit                          So it's not just America!        0\n",
       "4      Reddit  The dog is a spectacular dancer considering he...        0\n",
       "...       ...                                                ...      ...\n",
       "2995    4Chan  This is what Kike shilling looks like. Ryan ha...        1\n",
       "2996    4Chan                            Not bait, they're right        0\n",
       "2997    4Chan                             I like this one a lot.        0\n",
       "2998    4Chan           Kikes making money off heroin what’s new        1\n",
       "2999    4Chan  Desecrate men by making them gay/trannies, and...        1\n",
       "\n",
       "[3000 rows x 3 columns]"
      ]
     },
     "execution_count": 109,
     "metadata": {},
     "output_type": "execute_result"
    }
   ],
   "source": [
    "data"
   ]
  },
  {
   "cell_type": "code",
   "execution_count": 110,
   "id": "5b827706",
   "metadata": {},
   "outputs": [
    {
     "data": {
      "text/plain": [
       "0    2400\n",
       "1     600\n",
       "Name: Hateful, dtype: int64"
      ]
     },
     "execution_count": 110,
     "metadata": {},
     "output_type": "execute_result"
    }
   ],
   "source": [
    "data['Hateful'].value_counts()"
   ]
  },
  {
   "cell_type": "code",
   "execution_count": 111,
   "id": "63bd38fa",
   "metadata": {},
   "outputs": [],
   "source": [
    "X_train, X_test, y_train, y_test = train_test_split(data['Comment'], data['Hateful'], test_size=0.2, random_state=42)\n"
   ]
  },
  {
   "cell_type": "code",
   "execution_count": 112,
   "id": "369fb1e2",
   "metadata": {},
   "outputs": [],
   "source": [
    "stop_words = set(stopwords.words('english'))\n",
    "def preprocess(text):\n",
    "    text = text.lower()\n",
    "    text = ''.join([word for word in text if word not in string.punctuation])\n",
    "    tokens = word_tokenize(text)\n",
    "    tokens = [word for word in tokens if word not in stop_words]\n",
    "    return ' '.join(tokens)\n",
    "\n",
    "X_train = X_train.apply(preprocess)\n",
    "X_test = X_test.apply(preprocess)"
   ]
  },
  {
   "cell_type": "code",
   "execution_count": 113,
   "id": "b076ac73",
   "metadata": {},
   "outputs": [],
   "source": [
    "sentences = [sentence.split() for sentence in X_train]\n",
    "w2v_model = Word2Vec(sentences, vector_size=100, window=5, min_count=5, workers=4)"
   ]
  },
  {
   "cell_type": "code",
   "execution_count": 114,
   "id": "d6a1e63a",
   "metadata": {},
   "outputs": [],
   "source": [
    "def vectorize(sentence):\n",
    "    words = sentence.split()\n",
    "    words_vecs = [w2v_model.wv[word] for word in words if word in w2v_model.wv]\n",
    "    if len(words_vecs) == 0:\n",
    "        return np.zeros(100)\n",
    "    words_vecs = np.array(words_vecs)\n",
    "    return words_vecs.mean(axis=0)\n",
    "\n",
    "X_train = np.array([vectorize(sentence) for sentence in X_train])\n",
    "X_test = np.array([vectorize(sentence) for sentence in X_test])"
   ]
  },
  {
   "cell_type": "code",
   "execution_count": 247,
   "id": "38cfbe73",
   "metadata": {},
   "outputs": [],
   "source": [
    "weights={0:1,1:3.80005}"
   ]
  },
  {
   "cell_type": "code",
   "execution_count": 248,
   "id": "02a3ee89",
   "metadata": {},
   "outputs": [
    {
     "data": {
      "text/plain": [
       "642     0\n",
       "700     0\n",
       "226     0\n",
       "1697    0\n",
       "1010    0\n",
       "       ..\n",
       "1638    1\n",
       "1095    0\n",
       "1130    0\n",
       "1294    0\n",
       "860     1\n",
       "Name: Hateful, Length: 2400, dtype: int64"
      ]
     },
     "execution_count": 248,
     "metadata": {},
     "output_type": "execute_result"
    }
   ],
   "source": [
    "y_train"
   ]
  },
  {
   "cell_type": "code",
   "execution_count": 249,
   "id": "2b0eda6a",
   "metadata": {},
   "outputs": [
    {
     "data": {
      "text/html": [
       "<style>#sk-container-id-31 {color: black;background-color: white;}#sk-container-id-31 pre{padding: 0;}#sk-container-id-31 div.sk-toggleable {background-color: white;}#sk-container-id-31 label.sk-toggleable__label {cursor: pointer;display: block;width: 100%;margin-bottom: 0;padding: 0.3em;box-sizing: border-box;text-align: center;}#sk-container-id-31 label.sk-toggleable__label-arrow:before {content: \"▸\";float: left;margin-right: 0.25em;color: #696969;}#sk-container-id-31 label.sk-toggleable__label-arrow:hover:before {color: black;}#sk-container-id-31 div.sk-estimator:hover label.sk-toggleable__label-arrow:before {color: black;}#sk-container-id-31 div.sk-toggleable__content {max-height: 0;max-width: 0;overflow: hidden;text-align: left;background-color: #f0f8ff;}#sk-container-id-31 div.sk-toggleable__content pre {margin: 0.2em;color: black;border-radius: 0.25em;background-color: #f0f8ff;}#sk-container-id-31 input.sk-toggleable__control:checked~div.sk-toggleable__content {max-height: 200px;max-width: 100%;overflow: auto;}#sk-container-id-31 input.sk-toggleable__control:checked~label.sk-toggleable__label-arrow:before {content: \"▾\";}#sk-container-id-31 div.sk-estimator input.sk-toggleable__control:checked~label.sk-toggleable__label {background-color: #d4ebff;}#sk-container-id-31 div.sk-label input.sk-toggleable__control:checked~label.sk-toggleable__label {background-color: #d4ebff;}#sk-container-id-31 input.sk-hidden--visually {border: 0;clip: rect(1px 1px 1px 1px);clip: rect(1px, 1px, 1px, 1px);height: 1px;margin: -1px;overflow: hidden;padding: 0;position: absolute;width: 1px;}#sk-container-id-31 div.sk-estimator {font-family: monospace;background-color: #f0f8ff;border: 1px dotted black;border-radius: 0.25em;box-sizing: border-box;margin-bottom: 0.5em;}#sk-container-id-31 div.sk-estimator:hover {background-color: #d4ebff;}#sk-container-id-31 div.sk-parallel-item::after {content: \"\";width: 100%;border-bottom: 1px solid gray;flex-grow: 1;}#sk-container-id-31 div.sk-label:hover label.sk-toggleable__label {background-color: #d4ebff;}#sk-container-id-31 div.sk-serial::before {content: \"\";position: absolute;border-left: 1px solid gray;box-sizing: border-box;top: 0;bottom: 0;left: 50%;z-index: 0;}#sk-container-id-31 div.sk-serial {display: flex;flex-direction: column;align-items: center;background-color: white;padding-right: 0.2em;padding-left: 0.2em;position: relative;}#sk-container-id-31 div.sk-item {position: relative;z-index: 1;}#sk-container-id-31 div.sk-parallel {display: flex;align-items: stretch;justify-content: center;background-color: white;position: relative;}#sk-container-id-31 div.sk-item::before, #sk-container-id-31 div.sk-parallel-item::before {content: \"\";position: absolute;border-left: 1px solid gray;box-sizing: border-box;top: 0;bottom: 0;left: 50%;z-index: -1;}#sk-container-id-31 div.sk-parallel-item {display: flex;flex-direction: column;z-index: 1;position: relative;background-color: white;}#sk-container-id-31 div.sk-parallel-item:first-child::after {align-self: flex-end;width: 50%;}#sk-container-id-31 div.sk-parallel-item:last-child::after {align-self: flex-start;width: 50%;}#sk-container-id-31 div.sk-parallel-item:only-child::after {width: 0;}#sk-container-id-31 div.sk-dashed-wrapped {border: 1px dashed gray;margin: 0 0.4em 0.5em 0.4em;box-sizing: border-box;padding-bottom: 0.4em;background-color: white;}#sk-container-id-31 div.sk-label label {font-family: monospace;font-weight: bold;display: inline-block;line-height: 1.2em;}#sk-container-id-31 div.sk-label-container {text-align: center;}#sk-container-id-31 div.sk-container {/* jupyter's `normalize.less` sets `[hidden] { display: none; }` but bootstrap.min.css set `[hidden] { display: none !important; }` so we also need the `!important` here to be able to override the default hidden behavior on the sphinx rendered scikit-learn.org. See: https://github.com/scikit-learn/scikit-learn/issues/21755 */display: inline-block !important;position: relative;}#sk-container-id-31 div.sk-text-repr-fallback {display: none;}</style><div id=\"sk-container-id-31\" class=\"sk-top-container\"><div class=\"sk-text-repr-fallback\"><pre>LogisticRegression(class_weight={0: 1, 1: 3.80005})</pre><b>In a Jupyter environment, please rerun this cell to show the HTML representation or trust the notebook. <br />On GitHub, the HTML representation is unable to render, please try loading this page with nbviewer.org.</b></div><div class=\"sk-container\" hidden><div class=\"sk-item\"><div class=\"sk-estimator sk-toggleable\"><input class=\"sk-toggleable__control sk-hidden--visually\" id=\"sk-estimator-id-31\" type=\"checkbox\" checked><label for=\"sk-estimator-id-31\" class=\"sk-toggleable__label sk-toggleable__label-arrow\">LogisticRegression</label><div class=\"sk-toggleable__content\"><pre>LogisticRegression(class_weight={0: 1, 1: 3.80005})</pre></div></div></div></div></div>"
      ],
      "text/plain": [
       "LogisticRegression(class_weight={0: 1, 1: 3.80005})"
      ]
     },
     "execution_count": 249,
     "metadata": {},
     "output_type": "execute_result"
    }
   ],
   "source": [
    "clf = LogisticRegression(class_weight=weights)\n",
    "clf.fit(X_train, y_train)"
   ]
  },
  {
   "cell_type": "code",
   "execution_count": 250,
   "id": "22d9b618",
   "metadata": {},
   "outputs": [
    {
     "name": "stdout",
     "output_type": "stream",
     "text": [
      "Accuracy: 0.8216666666666667\n",
      "Precision: 0.8010954571841993\n",
      "Recall: 0.8216666666666667\n",
      "F1 score: 0.8081100976331306\n"
     ]
    }
   ],
   "source": [
    "y_pred = clf.predict(X_test)\n",
    "print('Accuracy:', accuracy_score(y_test, y_pred))\n",
    "print('Precision:', precision_score(y_test, y_pred,average='weighted' ))\n",
    "print('Recall:', recall_score(y_test, y_pred,average='weighted' ))\n",
    "print('F1 score:', f1_score(y_test, y_pred,average='weighted' ))"
   ]
  },
  {
   "cell_type": "markdown",
   "id": "68136075",
   "metadata": {},
   "source": [
    "#### Logistic regression evaluation."
   ]
  },
  {
   "cell_type": "code",
   "execution_count": 263,
   "id": "32c4cce0",
   "metadata": {},
   "outputs": [
    {
     "data": {
      "text/plain": [
       "array([0], dtype=int64)"
      ]
     },
     "execution_count": 263,
     "metadata": {},
     "output_type": "execute_result"
    }
   ],
   "source": [
    "clf.predict([vectorize(preprocess(\"\"\" \"\"\"))])"
   ]
  },
  {
   "cell_type": "code",
   "execution_count": 246,
   "id": "03ded5f0",
   "metadata": {},
   "outputs": [
    {
     "data": {
      "text/plain": [
       "array([0, 1, 0, 0, 0, 0, 0, 0, 0, 0, 0, 0, 0, 0, 0, 1, 0, 1, 0, 0, 0, 0,\n",
       "       0, 0, 0, 0, 0, 0, 0, 0, 0, 0, 1, 0, 0, 0, 1, 0, 0, 0, 0, 0, 0, 1,\n",
       "       0, 0, 0, 0, 0, 0, 0, 0, 0, 1, 0, 0, 0, 1, 0, 0, 0, 0, 0, 0, 0, 0,\n",
       "       0, 1, 0, 0, 0, 1, 0, 0, 1, 0, 0, 0, 0, 0, 0, 0, 0, 0, 0, 0, 1, 0,\n",
       "       1, 0, 0, 0, 0, 0, 0, 0, 0, 0, 0, 0, 0, 0, 0, 1, 0, 0, 0, 0, 0, 0,\n",
       "       0, 0, 1, 0, 0, 0, 0, 0, 0, 0, 0, 0, 0, 0, 0, 1, 0, 0, 0, 0, 0, 0,\n",
       "       0, 1, 0, 1, 0, 0, 0, 0, 0, 0, 0, 0, 0, 0, 1, 0, 0, 1, 0, 0, 0, 0,\n",
       "       0, 0, 0, 0, 0, 0, 0, 0, 0, 0, 1, 0, 0, 0, 0, 1, 0, 0, 0, 0, 0, 0,\n",
       "       0, 0, 0, 0, 0, 0, 1, 0, 0, 0, 0, 0, 0, 0, 0, 0, 0, 0, 0, 0, 0, 0,\n",
       "       0, 0, 0, 1, 0, 0, 0, 1, 0, 0, 0, 1, 0, 0, 0, 1, 0, 0, 0, 0, 0, 1,\n",
       "       1, 0, 0, 0, 1, 0, 0, 0, 1, 1, 0, 0, 0, 1, 0, 0, 1, 0, 1, 0, 0, 0,\n",
       "       1, 0, 0, 0, 0, 0, 0, 1, 0, 0, 0, 0, 0, 0, 0, 1, 0, 0, 0, 0, 0, 1,\n",
       "       0, 0, 0, 0, 0, 0, 0, 1, 0, 0, 1, 0, 0, 0, 0, 0, 1, 0, 0, 0, 1, 0,\n",
       "       0, 0, 1, 0, 0, 0, 0, 1, 0, 1, 0, 0, 0, 0, 0, 0, 0, 1, 1, 0, 0, 0,\n",
       "       0, 0, 0, 0, 0, 0, 0, 0, 0, 0, 0, 0, 0, 0, 0, 0, 0, 0, 0, 0, 0, 0,\n",
       "       0, 0, 0, 1, 0, 0, 1, 0, 1, 0, 0, 0, 0, 0, 0, 0, 0, 0, 0, 0, 0, 1,\n",
       "       0, 0, 0, 0, 0, 0, 0, 0, 0, 0, 1, 0, 0, 0, 0, 0, 0, 0, 0, 0, 0, 0,\n",
       "       0, 0, 0, 0, 0, 0, 0, 0, 0, 0, 0, 0, 0, 0, 0, 0, 0, 1, 0, 0, 0, 0,\n",
       "       0, 0, 0, 0, 1, 0, 0, 0, 0, 0, 0, 0, 0, 0, 0, 0, 0, 0, 0, 0, 0, 0,\n",
       "       0, 0, 0, 0, 0, 0, 0, 0, 0, 0, 0, 0, 0, 0, 0, 0, 1, 1, 0, 0, 0, 0,\n",
       "       0, 0, 0, 0, 1, 0, 0, 0, 0, 0, 0, 0, 0, 0, 0, 0, 0, 0, 0, 0, 0, 0,\n",
       "       0, 0, 0, 1, 0, 0, 0, 0, 1, 0, 0, 0, 0, 1, 0, 0, 1, 1, 0, 0, 0, 0,\n",
       "       0, 0, 0, 0, 1, 1, 1, 0, 0, 0, 0, 0, 1, 0, 0, 0, 0, 0, 0, 0, 0, 0,\n",
       "       0, 0, 0, 0, 0, 0, 0, 0, 0, 0, 0, 0, 0, 0, 0, 0, 0, 1, 0, 0, 0, 0,\n",
       "       0, 0, 0, 1, 0, 1, 0, 0, 0, 0, 0, 0, 0, 0, 0, 1, 0, 0, 0, 0, 0, 0,\n",
       "       0, 0, 0, 0, 0, 0, 0, 0, 0, 0, 0, 0, 0, 0, 0, 1, 0, 0, 0, 0, 0, 0,\n",
       "       0, 0, 0, 0, 0, 0, 0, 0, 0, 0, 0, 0, 0, 0, 1, 0, 0, 0, 0, 0, 0, 0,\n",
       "       0, 0, 0, 0, 0, 0], dtype=int64)"
      ]
     },
     "execution_count": 246,
     "metadata": {},
     "output_type": "execute_result"
    }
   ],
   "source": [
    "y_pred"
   ]
  },
  {
   "cell_type": "code",
   "execution_count": 155,
   "id": "2685a47c",
   "metadata": {},
   "outputs": [
    {
     "data": {
      "text/plain": [
       "array([0, 0, 0, 0, 0, 0, 0, 0, 0, 0, 0, 0, 0, 0, 0, 0, 0, 0, 0, 0, 1, 0,\n",
       "       0, 1, 0, 0, 0, 0, 1, 0, 0, 0, 1, 0, 1, 0, 0, 0, 0, 1, 0, 0, 1, 1,\n",
       "       0, 0, 0, 0, 0, 0, 0, 0, 0, 1, 0, 0, 0, 0, 0, 0, 0, 0, 0, 0, 0, 0,\n",
       "       0, 1, 0, 0, 0, 1, 1, 1, 0, 0, 0, 0, 0, 1, 0, 0, 0, 0, 0, 1, 0, 1,\n",
       "       0, 0, 0, 0, 0, 0, 0, 0, 0, 0, 0, 0, 0, 0, 0, 0, 0, 0, 1, 0, 0, 0,\n",
       "       0, 0, 1, 0, 0, 0, 0, 0, 0, 0, 0, 0, 0, 0, 0, 0, 0, 0, 0, 0, 0, 1,\n",
       "       0, 1, 0, 0, 0, 0, 0, 0, 0, 1, 1, 1, 0, 0, 1, 0, 0, 1, 1, 0, 0, 0,\n",
       "       1, 1, 0, 0, 0, 0, 0, 0, 0, 0, 0, 0, 0, 0, 0, 0, 0, 0, 0, 0, 0, 0,\n",
       "       0, 0, 0, 0, 1, 0, 0, 0, 0, 0, 1, 0, 0, 0, 1, 0, 0, 0, 0, 0, 0, 0,\n",
       "       1, 0, 0, 1, 0, 0, 1, 1, 1, 0, 0, 1, 0, 0, 1, 1, 0, 0, 0, 0, 0, 1,\n",
       "       1, 0, 0, 0, 1, 1, 0, 0, 1, 0, 0, 0, 0, 0, 0, 0, 0, 0, 0, 0, 0, 0,\n",
       "       1, 0, 0, 0, 0, 0, 0, 1, 0, 0, 0, 0, 0, 0, 0, 1, 0, 1, 0, 0, 0, 0,\n",
       "       0, 0, 1, 0, 1, 0, 0, 1, 0, 0, 1, 0, 0, 0, 0, 0, 1, 0, 0, 0, 0, 0,\n",
       "       0, 0, 1, 0, 0, 0, 0, 0, 1, 0, 0, 0, 0, 1, 0, 0, 0, 1, 0, 0, 0, 1,\n",
       "       0, 0, 1, 0, 0, 0, 0, 0, 0, 1, 0, 0, 1, 0, 0, 0, 0, 0, 1, 0, 0, 0,\n",
       "       1, 0, 0, 1, 0, 0, 1, 0, 0, 0, 0, 0, 0, 0, 0, 1, 0, 0, 0, 1, 0, 1,\n",
       "       0, 0, 0, 0, 0, 0, 0, 0, 1, 0, 1, 1, 0, 0, 1, 0, 1, 0, 1, 1, 0, 0,\n",
       "       0, 0, 0, 0, 0, 1, 0, 0, 0, 1, 0, 0, 0, 0, 0, 0, 0, 0, 1, 0, 0, 0,\n",
       "       0, 0, 0, 0, 0, 0, 0, 0, 0, 0, 0, 0, 0, 0, 0, 0, 0, 0, 0, 1, 0, 0,\n",
       "       0, 1, 0, 0, 0, 0, 0, 1, 0, 0, 1, 0, 0, 0, 0, 0, 1, 1, 0, 0, 0, 0,\n",
       "       0, 0, 0, 0, 1, 1, 1, 1, 0, 0, 0, 0, 0, 0, 0, 0, 0, 0, 0, 0, 0, 0,\n",
       "       1, 0, 0, 1, 0, 1, 0, 0, 0, 0, 0, 0, 1, 0, 1, 0, 1, 1, 0, 0, 0, 0,\n",
       "       0, 0, 0, 0, 0, 0, 1, 0, 0, 0, 0, 0, 0, 0, 0, 0, 1, 0, 0, 0, 0, 0,\n",
       "       0, 0, 0, 0, 0, 0, 0, 0, 0, 0, 0, 0, 0, 0, 0, 0, 0, 0, 0, 0, 1, 1,\n",
       "       1, 0, 0, 0, 0, 0, 0, 1, 0, 0, 0, 0, 0, 0, 1, 0, 0, 0, 0, 0, 0, 0,\n",
       "       0, 0, 0, 0, 0, 1, 0, 0, 0, 0, 1, 0, 0, 0, 0, 0, 0, 0, 0, 0, 0, 0,\n",
       "       0, 0, 0, 0, 0, 1, 0, 0, 0, 0, 0, 0, 0, 0, 0, 0, 0, 0, 0, 0, 0, 0,\n",
       "       0, 0, 1, 0, 0, 0], dtype=int64)"
      ]
     },
     "execution_count": 155,
     "metadata": {},
     "output_type": "execute_result"
    }
   ],
   "source": [
    "np.array(y_test)"
   ]
  },
  {
   "cell_type": "code",
   "execution_count": 147,
   "id": "ad79a98d",
   "metadata": {
    "scrolled": true
   },
   "outputs": [
    {
     "data": {
      "text/plain": [
       "Hateful\n",
       "0          494\n",
       "1          106\n",
       "dtype: int64"
      ]
     },
     "execution_count": 147,
     "metadata": {},
     "output_type": "execute_result"
    }
   ],
   "source": [
    "pd.DataFrame(y_test).value_counts()"
   ]
  },
  {
   "cell_type": "markdown",
   "id": "db5c02c5",
   "metadata": {},
   "source": [
    "# Using a deep layer"
   ]
  },
  {
   "cell_type": "code",
   "execution_count": 264,
   "id": "0a05b261",
   "metadata": {},
   "outputs": [],
   "source": [
    "from keras.models import Sequential\n",
    "from keras.layers import Dense\n",
    "import keras\n",
    "from sklearn.preprocessing import OneHotEncoder"
   ]
  },
  {
   "cell_type": "code",
   "execution_count": 265,
   "id": "9fc6af4c",
   "metadata": {},
   "outputs": [],
   "source": [
    "X_test, val_x,  y_test, val_y = train_test_split(X_test, y_test, test_size=0.5, random_state=42)"
   ]
  },
  {
   "cell_type": "code",
   "execution_count": 266,
   "id": "5c7674d3",
   "metadata": {},
   "outputs": [
    {
     "data": {
      "text/html": [
       "<style>#sk-container-id-32 {color: black;background-color: white;}#sk-container-id-32 pre{padding: 0;}#sk-container-id-32 div.sk-toggleable {background-color: white;}#sk-container-id-32 label.sk-toggleable__label {cursor: pointer;display: block;width: 100%;margin-bottom: 0;padding: 0.3em;box-sizing: border-box;text-align: center;}#sk-container-id-32 label.sk-toggleable__label-arrow:before {content: \"▸\";float: left;margin-right: 0.25em;color: #696969;}#sk-container-id-32 label.sk-toggleable__label-arrow:hover:before {color: black;}#sk-container-id-32 div.sk-estimator:hover label.sk-toggleable__label-arrow:before {color: black;}#sk-container-id-32 div.sk-toggleable__content {max-height: 0;max-width: 0;overflow: hidden;text-align: left;background-color: #f0f8ff;}#sk-container-id-32 div.sk-toggleable__content pre {margin: 0.2em;color: black;border-radius: 0.25em;background-color: #f0f8ff;}#sk-container-id-32 input.sk-toggleable__control:checked~div.sk-toggleable__content {max-height: 200px;max-width: 100%;overflow: auto;}#sk-container-id-32 input.sk-toggleable__control:checked~label.sk-toggleable__label-arrow:before {content: \"▾\";}#sk-container-id-32 div.sk-estimator input.sk-toggleable__control:checked~label.sk-toggleable__label {background-color: #d4ebff;}#sk-container-id-32 div.sk-label input.sk-toggleable__control:checked~label.sk-toggleable__label {background-color: #d4ebff;}#sk-container-id-32 input.sk-hidden--visually {border: 0;clip: rect(1px 1px 1px 1px);clip: rect(1px, 1px, 1px, 1px);height: 1px;margin: -1px;overflow: hidden;padding: 0;position: absolute;width: 1px;}#sk-container-id-32 div.sk-estimator {font-family: monospace;background-color: #f0f8ff;border: 1px dotted black;border-radius: 0.25em;box-sizing: border-box;margin-bottom: 0.5em;}#sk-container-id-32 div.sk-estimator:hover {background-color: #d4ebff;}#sk-container-id-32 div.sk-parallel-item::after {content: \"\";width: 100%;border-bottom: 1px solid gray;flex-grow: 1;}#sk-container-id-32 div.sk-label:hover label.sk-toggleable__label {background-color: #d4ebff;}#sk-container-id-32 div.sk-serial::before {content: \"\";position: absolute;border-left: 1px solid gray;box-sizing: border-box;top: 0;bottom: 0;left: 50%;z-index: 0;}#sk-container-id-32 div.sk-serial {display: flex;flex-direction: column;align-items: center;background-color: white;padding-right: 0.2em;padding-left: 0.2em;position: relative;}#sk-container-id-32 div.sk-item {position: relative;z-index: 1;}#sk-container-id-32 div.sk-parallel {display: flex;align-items: stretch;justify-content: center;background-color: white;position: relative;}#sk-container-id-32 div.sk-item::before, #sk-container-id-32 div.sk-parallel-item::before {content: \"\";position: absolute;border-left: 1px solid gray;box-sizing: border-box;top: 0;bottom: 0;left: 50%;z-index: -1;}#sk-container-id-32 div.sk-parallel-item {display: flex;flex-direction: column;z-index: 1;position: relative;background-color: white;}#sk-container-id-32 div.sk-parallel-item:first-child::after {align-self: flex-end;width: 50%;}#sk-container-id-32 div.sk-parallel-item:last-child::after {align-self: flex-start;width: 50%;}#sk-container-id-32 div.sk-parallel-item:only-child::after {width: 0;}#sk-container-id-32 div.sk-dashed-wrapped {border: 1px dashed gray;margin: 0 0.4em 0.5em 0.4em;box-sizing: border-box;padding-bottom: 0.4em;background-color: white;}#sk-container-id-32 div.sk-label label {font-family: monospace;font-weight: bold;display: inline-block;line-height: 1.2em;}#sk-container-id-32 div.sk-label-container {text-align: center;}#sk-container-id-32 div.sk-container {/* jupyter's `normalize.less` sets `[hidden] { display: none; }` but bootstrap.min.css set `[hidden] { display: none !important; }` so we also need the `!important` here to be able to override the default hidden behavior on the sphinx rendered scikit-learn.org. See: https://github.com/scikit-learn/scikit-learn/issues/21755 */display: inline-block !important;position: relative;}#sk-container-id-32 div.sk-text-repr-fallback {display: none;}</style><div id=\"sk-container-id-32\" class=\"sk-top-container\"><div class=\"sk-text-repr-fallback\"><pre>OneHotEncoder(handle_unknown=&#x27;ignore&#x27;)</pre><b>In a Jupyter environment, please rerun this cell to show the HTML representation or trust the notebook. <br />On GitHub, the HTML representation is unable to render, please try loading this page with nbviewer.org.</b></div><div class=\"sk-container\" hidden><div class=\"sk-item\"><div class=\"sk-estimator sk-toggleable\"><input class=\"sk-toggleable__control sk-hidden--visually\" id=\"sk-estimator-id-32\" type=\"checkbox\" checked><label for=\"sk-estimator-id-32\" class=\"sk-toggleable__label sk-toggleable__label-arrow\">OneHotEncoder</label><div class=\"sk-toggleable__content\"><pre>OneHotEncoder(handle_unknown=&#x27;ignore&#x27;)</pre></div></div></div></div></div>"
      ],
      "text/plain": [
       "OneHotEncoder(handle_unknown='ignore')"
      ]
     },
     "execution_count": 266,
     "metadata": {},
     "output_type": "execute_result"
    }
   ],
   "source": [
    "enc = OneHotEncoder(handle_unknown = 'ignore')\n",
    "y_train=pd.DataFrame(y_train)\n",
    "enc.fit(y_train)"
   ]
  },
  {
   "cell_type": "code",
   "execution_count": 267,
   "id": "fff7bc38",
   "metadata": {},
   "outputs": [],
   "source": [
    "y_train=enc.transform(y_train).toarray()\n",
    "y_test=pd.DataFrame(y_test)\n",
    "enc.fit(y_test)\n",
    "y_test=enc.transform(y_test).toarray()\n",
    "val_y=pd.DataFrame(val_y)\n",
    "enc.fit(val_y)\n",
    "val_y=enc.transform(val_y).toarray()"
   ]
  },
  {
   "cell_type": "code",
   "execution_count": 268,
   "id": "4fe2faa0",
   "metadata": {},
   "outputs": [
    {
     "data": {
      "text/plain": [
       "(2400, 2)"
      ]
     },
     "execution_count": 268,
     "metadata": {},
     "output_type": "execute_result"
    }
   ],
   "source": [
    "y_train.shape"
   ]
  },
  {
   "cell_type": "code",
   "execution_count": 284,
   "id": "735642f4",
   "metadata": {
    "scrolled": true
   },
   "outputs": [
    {
     "name": "stdout",
     "output_type": "stream",
     "text": [
      "Epoch 1/100\n",
      "75/75 [==============================] - 1s 4ms/step - loss: 0.5394 - categorical_accuracy: 0.7867 - val_loss: 0.4569 - val_categorical_accuracy: 0.8300\n",
      "Epoch 2/100\n",
      "75/75 [==============================] - 0s 2ms/step - loss: 0.5054 - categorical_accuracy: 0.7942 - val_loss: 0.4533 - val_categorical_accuracy: 0.8300\n",
      "Epoch 3/100\n",
      "75/75 [==============================] - 0s 2ms/step - loss: 0.4968 - categorical_accuracy: 0.7942 - val_loss: 0.4412 - val_categorical_accuracy: 0.8300\n",
      "Epoch 4/100\n",
      "75/75 [==============================] - 0s 2ms/step - loss: 0.4862 - categorical_accuracy: 0.7942 - val_loss: 0.4304 - val_categorical_accuracy: 0.8300\n",
      "Epoch 5/100\n",
      "75/75 [==============================] - 0s 2ms/step - loss: 0.4724 - categorical_accuracy: 0.7942 - val_loss: 0.4158 - val_categorical_accuracy: 0.8300\n",
      "Epoch 6/100\n",
      "75/75 [==============================] - 0s 2ms/step - loss: 0.4457 - categorical_accuracy: 0.8025 - val_loss: 0.4288 - val_categorical_accuracy: 0.8567\n",
      "Epoch 7/100\n",
      "75/75 [==============================] - 0s 2ms/step - loss: 0.4267 - categorical_accuracy: 0.8208 - val_loss: 0.3928 - val_categorical_accuracy: 0.8533\n",
      "Epoch 8/100\n",
      "75/75 [==============================] - 0s 2ms/step - loss: 0.4094 - categorical_accuracy: 0.8283 - val_loss: 0.3821 - val_categorical_accuracy: 0.8567\n",
      "Epoch 9/100\n",
      "75/75 [==============================] - 0s 2ms/step - loss: 0.4188 - categorical_accuracy: 0.8229 - val_loss: 0.3985 - val_categorical_accuracy: 0.8467\n",
      "Epoch 10/100\n",
      "75/75 [==============================] - 0s 2ms/step - loss: 0.3955 - categorical_accuracy: 0.8296 - val_loss: 0.4236 - val_categorical_accuracy: 0.8233\n",
      "Epoch 11/100\n",
      "75/75 [==============================] - 0s 2ms/step - loss: 0.3903 - categorical_accuracy: 0.8329 - val_loss: 0.3817 - val_categorical_accuracy: 0.8600\n",
      "Epoch 12/100\n",
      "75/75 [==============================] - 0s 2ms/step - loss: 0.3832 - categorical_accuracy: 0.8421 - val_loss: 0.4149 - val_categorical_accuracy: 0.8233\n",
      "Epoch 13/100\n",
      "75/75 [==============================] - 0s 2ms/step - loss: 0.3761 - categorical_accuracy: 0.8454 - val_loss: 0.3679 - val_categorical_accuracy: 0.8633\n",
      "Epoch 14/100\n",
      "75/75 [==============================] - 0s 2ms/step - loss: 0.3702 - categorical_accuracy: 0.8508 - val_loss: 0.3656 - val_categorical_accuracy: 0.8567\n",
      "Epoch 15/100\n",
      "75/75 [==============================] - 0s 2ms/step - loss: 0.3678 - categorical_accuracy: 0.8492 - val_loss: 0.3876 - val_categorical_accuracy: 0.8400\n",
      "Epoch 16/100\n",
      "75/75 [==============================] - 0s 2ms/step - loss: 0.3686 - categorical_accuracy: 0.8462 - val_loss: 0.4702 - val_categorical_accuracy: 0.7767\n",
      "Epoch 17/100\n",
      "75/75 [==============================] - 0s 2ms/step - loss: 0.3725 - categorical_accuracy: 0.8446 - val_loss: 0.3647 - val_categorical_accuracy: 0.8600\n",
      "Epoch 18/100\n",
      "75/75 [==============================] - 0s 3ms/step - loss: 0.3613 - categorical_accuracy: 0.8500 - val_loss: 0.3623 - val_categorical_accuracy: 0.8600\n",
      "Epoch 19/100\n",
      "75/75 [==============================] - 0s 3ms/step - loss: 0.3533 - categorical_accuracy: 0.8550 - val_loss: 0.3962 - val_categorical_accuracy: 0.8600\n",
      "Epoch 20/100\n",
      "75/75 [==============================] - 0s 3ms/step - loss: 0.3666 - categorical_accuracy: 0.8537 - val_loss: 0.3556 - val_categorical_accuracy: 0.8600\n",
      "Epoch 21/100\n",
      "75/75 [==============================] - 0s 3ms/step - loss: 0.3682 - categorical_accuracy: 0.8533 - val_loss: 0.3580 - val_categorical_accuracy: 0.8667\n",
      "Epoch 22/100\n",
      "75/75 [==============================] - 0s 3ms/step - loss: 0.3406 - categorical_accuracy: 0.8696 - val_loss: 0.3601 - val_categorical_accuracy: 0.8700\n",
      "Epoch 23/100\n",
      "75/75 [==============================] - 0s 3ms/step - loss: 0.3400 - categorical_accuracy: 0.8679 - val_loss: 0.3531 - val_categorical_accuracy: 0.8733\n",
      "Epoch 24/100\n",
      "75/75 [==============================] - 0s 3ms/step - loss: 0.3411 - categorical_accuracy: 0.8637 - val_loss: 0.3834 - val_categorical_accuracy: 0.8333\n",
      "Epoch 25/100\n",
      "75/75 [==============================] - 0s 3ms/step - loss: 0.3280 - categorical_accuracy: 0.8708 - val_loss: 0.3463 - val_categorical_accuracy: 0.8767\n",
      "Epoch 26/100\n",
      "75/75 [==============================] - 0s 3ms/step - loss: 0.3387 - categorical_accuracy: 0.8625 - val_loss: 0.3461 - val_categorical_accuracy: 0.8833\n",
      "Epoch 27/100\n",
      "75/75 [==============================] - 0s 3ms/step - loss: 0.3273 - categorical_accuracy: 0.8737 - val_loss: 0.3754 - val_categorical_accuracy: 0.8467\n",
      "Epoch 28/100\n",
      "75/75 [==============================] - 0s 3ms/step - loss: 0.3194 - categorical_accuracy: 0.8771 - val_loss: 0.3529 - val_categorical_accuracy: 0.8633\n",
      "Epoch 29/100\n",
      "75/75 [==============================] - 0s 3ms/step - loss: 0.3342 - categorical_accuracy: 0.8708 - val_loss: 0.3418 - val_categorical_accuracy: 0.8767\n",
      "Epoch 30/100\n",
      "75/75 [==============================] - 0s 3ms/step - loss: 0.3171 - categorical_accuracy: 0.8771 - val_loss: 0.3453 - val_categorical_accuracy: 0.8800\n",
      "Epoch 31/100\n",
      "75/75 [==============================] - 0s 2ms/step - loss: 0.3060 - categorical_accuracy: 0.8879 - val_loss: 0.3511 - val_categorical_accuracy: 0.8800\n",
      "Epoch 32/100\n",
      "75/75 [==============================] - 0s 3ms/step - loss: 0.3062 - categorical_accuracy: 0.8904 - val_loss: 0.3523 - val_categorical_accuracy: 0.8767\n",
      "Epoch 33/100\n",
      "75/75 [==============================] - 0s 3ms/step - loss: 0.3078 - categorical_accuracy: 0.8871 - val_loss: 0.3374 - val_categorical_accuracy: 0.8867\n",
      "Epoch 34/100\n",
      "75/75 [==============================] - 0s 3ms/step - loss: 0.3011 - categorical_accuracy: 0.8908 - val_loss: 0.3847 - val_categorical_accuracy: 0.8667\n",
      "Epoch 35/100\n",
      "75/75 [==============================] - 0s 3ms/step - loss: 0.3201 - categorical_accuracy: 0.8796 - val_loss: 0.3477 - val_categorical_accuracy: 0.8800\n",
      "Epoch 36/100\n",
      "75/75 [==============================] - 0s 3ms/step - loss: 0.2922 - categorical_accuracy: 0.8888 - val_loss: 0.3556 - val_categorical_accuracy: 0.8700\n",
      "Epoch 37/100\n",
      "75/75 [==============================] - 0s 3ms/step - loss: 0.2813 - categorical_accuracy: 0.8971 - val_loss: 0.3477 - val_categorical_accuracy: 0.8800\n",
      "Epoch 38/100\n",
      "75/75 [==============================] - 0s 3ms/step - loss: 0.2887 - categorical_accuracy: 0.8908 - val_loss: 0.3533 - val_categorical_accuracy: 0.8733\n",
      "Epoch 39/100\n",
      "75/75 [==============================] - 0s 3ms/step - loss: 0.2918 - categorical_accuracy: 0.8833 - val_loss: 0.3471 - val_categorical_accuracy: 0.8933\n",
      "Epoch 40/100\n",
      "75/75 [==============================] - 0s 3ms/step - loss: 0.2845 - categorical_accuracy: 0.8979 - val_loss: 0.3598 - val_categorical_accuracy: 0.8600\n",
      "Epoch 41/100\n",
      "75/75 [==============================] - 0s 3ms/step - loss: 0.2705 - categorical_accuracy: 0.9008 - val_loss: 0.3525 - val_categorical_accuracy: 0.8800\n",
      "Epoch 42/100\n",
      "75/75 [==============================] - 0s 3ms/step - loss: 0.2891 - categorical_accuracy: 0.8850 - val_loss: 0.3700 - val_categorical_accuracy: 0.8433\n",
      "Epoch 43/100\n",
      "75/75 [==============================] - 0s 3ms/step - loss: 0.2737 - categorical_accuracy: 0.8946 - val_loss: 0.3580 - val_categorical_accuracy: 0.8700\n",
      "Epoch 44/100\n",
      "75/75 [==============================] - 0s 3ms/step - loss: 0.2676 - categorical_accuracy: 0.8979 - val_loss: 0.3541 - val_categorical_accuracy: 0.8700\n",
      "Epoch 45/100\n",
      "75/75 [==============================] - 0s 3ms/step - loss: 0.2608 - categorical_accuracy: 0.9033 - val_loss: 0.3452 - val_categorical_accuracy: 0.8800\n",
      "Epoch 46/100\n",
      "75/75 [==============================] - 0s 3ms/step - loss: 0.2720 - categorical_accuracy: 0.8971 - val_loss: 0.4194 - val_categorical_accuracy: 0.8133\n",
      "Epoch 47/100\n",
      "75/75 [==============================] - 0s 2ms/step - loss: 0.2664 - categorical_accuracy: 0.9038 - val_loss: 0.3640 - val_categorical_accuracy: 0.8600\n",
      "Epoch 48/100\n",
      "75/75 [==============================] - 0s 2ms/step - loss: 0.2758 - categorical_accuracy: 0.8929 - val_loss: 0.3671 - val_categorical_accuracy: 0.8500\n",
      "Epoch 49/100\n",
      "75/75 [==============================] - 0s 3ms/step - loss: 0.2595 - categorical_accuracy: 0.9029 - val_loss: 0.3419 - val_categorical_accuracy: 0.8767\n",
      "Epoch 50/100\n",
      "75/75 [==============================] - 0s 3ms/step - loss: 0.2682 - categorical_accuracy: 0.8967 - val_loss: 0.3378 - val_categorical_accuracy: 0.8733\n",
      "Epoch 51/100\n",
      "75/75 [==============================] - 0s 3ms/step - loss: 0.2419 - categorical_accuracy: 0.9104 - val_loss: 0.3433 - val_categorical_accuracy: 0.8800\n",
      "Epoch 52/100\n",
      "75/75 [==============================] - 0s 3ms/step - loss: 0.2571 - categorical_accuracy: 0.9054 - val_loss: 0.3559 - val_categorical_accuracy: 0.8667\n",
      "Epoch 53/100\n",
      "75/75 [==============================] - 0s 3ms/step - loss: 0.2428 - categorical_accuracy: 0.9108 - val_loss: 0.3499 - val_categorical_accuracy: 0.8833\n",
      "Epoch 54/100\n",
      "75/75 [==============================] - 0s 3ms/step - loss: 0.2464 - categorical_accuracy: 0.9075 - val_loss: 0.3642 - val_categorical_accuracy: 0.8500\n",
      "Epoch 55/100\n",
      "75/75 [==============================] - 0s 3ms/step - loss: 0.2414 - categorical_accuracy: 0.9112 - val_loss: 0.3478 - val_categorical_accuracy: 0.8767\n",
      "Epoch 56/100\n",
      "75/75 [==============================] - 0s 3ms/step - loss: 0.2394 - categorical_accuracy: 0.9142 - val_loss: 0.3477 - val_categorical_accuracy: 0.8867\n",
      "Epoch 57/100\n",
      "75/75 [==============================] - 0s 3ms/step - loss: 0.2667 - categorical_accuracy: 0.8967 - val_loss: 0.3414 - val_categorical_accuracy: 0.8867\n",
      "Epoch 58/100\n",
      "75/75 [==============================] - 0s 3ms/step - loss: 0.2310 - categorical_accuracy: 0.9133 - val_loss: 0.3521 - val_categorical_accuracy: 0.8667\n",
      "Epoch 59/100\n",
      "75/75 [==============================] - 0s 3ms/step - loss: 0.2384 - categorical_accuracy: 0.9108 - val_loss: 0.3663 - val_categorical_accuracy: 0.8567\n",
      "Epoch 60/100\n",
      "75/75 [==============================] - 0s 3ms/step - loss: 0.2321 - categorical_accuracy: 0.9162 - val_loss: 0.3895 - val_categorical_accuracy: 0.8467\n",
      "Epoch 61/100\n",
      "75/75 [==============================] - 0s 3ms/step - loss: 0.2409 - categorical_accuracy: 0.9096 - val_loss: 0.3472 - val_categorical_accuracy: 0.8800\n",
      "Epoch 62/100\n",
      "75/75 [==============================] - 0s 3ms/step - loss: 0.2258 - categorical_accuracy: 0.9146 - val_loss: 0.3854 - val_categorical_accuracy: 0.8300\n",
      "Epoch 63/100\n",
      "75/75 [==============================] - 0s 3ms/step - loss: 0.2172 - categorical_accuracy: 0.9208 - val_loss: 0.3516 - val_categorical_accuracy: 0.8833\n",
      "Epoch 64/100\n",
      "75/75 [==============================] - 0s 3ms/step - loss: 0.2307 - categorical_accuracy: 0.9133 - val_loss: 0.4347 - val_categorical_accuracy: 0.8267\n",
      "Epoch 65/100\n",
      "75/75 [==============================] - 0s 2ms/step - loss: 0.2254 - categorical_accuracy: 0.9117 - val_loss: 0.3909 - val_categorical_accuracy: 0.8367\n",
      "Epoch 66/100\n",
      "75/75 [==============================] - 0s 2ms/step - loss: 0.2399 - categorical_accuracy: 0.9075 - val_loss: 0.3648 - val_categorical_accuracy: 0.8533\n",
      "Epoch 67/100\n",
      "75/75 [==============================] - 0s 3ms/step - loss: 0.2299 - categorical_accuracy: 0.9171 - val_loss: 0.3888 - val_categorical_accuracy: 0.8533\n",
      "Epoch 68/100\n",
      "75/75 [==============================] - 0s 3ms/step - loss: 0.2203 - categorical_accuracy: 0.9150 - val_loss: 0.3638 - val_categorical_accuracy: 0.8767\n",
      "Epoch 69/100\n",
      "75/75 [==============================] - 0s 3ms/step - loss: 0.2289 - categorical_accuracy: 0.9117 - val_loss: 0.3342 - val_categorical_accuracy: 0.8833\n",
      "Epoch 70/100\n",
      "75/75 [==============================] - 0s 3ms/step - loss: 0.2149 - categorical_accuracy: 0.9192 - val_loss: 0.3583 - val_categorical_accuracy: 0.8933\n",
      "Epoch 71/100\n",
      "75/75 [==============================] - 0s 3ms/step - loss: 0.2136 - categorical_accuracy: 0.9187 - val_loss: 0.3565 - val_categorical_accuracy: 0.8767\n",
      "Epoch 72/100\n",
      "75/75 [==============================] - 0s 3ms/step - loss: 0.1957 - categorical_accuracy: 0.9275 - val_loss: 0.3976 - val_categorical_accuracy: 0.8533\n",
      "Epoch 73/100\n",
      "75/75 [==============================] - 0s 3ms/step - loss: 0.2078 - categorical_accuracy: 0.9217 - val_loss: 0.3515 - val_categorical_accuracy: 0.8800\n",
      "Epoch 74/100\n",
      "75/75 [==============================] - 0s 3ms/step - loss: 0.2058 - categorical_accuracy: 0.9246 - val_loss: 0.3735 - val_categorical_accuracy: 0.8833\n",
      "Epoch 75/100\n",
      "75/75 [==============================] - 0s 3ms/step - loss: 0.2116 - categorical_accuracy: 0.9183 - val_loss: 0.3694 - val_categorical_accuracy: 0.8800\n",
      "Epoch 76/100\n",
      "75/75 [==============================] - 0s 3ms/step - loss: 0.1996 - categorical_accuracy: 0.9254 - val_loss: 0.3689 - val_categorical_accuracy: 0.8667\n",
      "Epoch 77/100\n",
      "75/75 [==============================] - 0s 3ms/step - loss: 0.2107 - categorical_accuracy: 0.9196 - val_loss: 0.3619 - val_categorical_accuracy: 0.8733\n",
      "Epoch 78/100\n",
      "75/75 [==============================] - 0s 3ms/step - loss: 0.1993 - categorical_accuracy: 0.9196 - val_loss: 0.3791 - val_categorical_accuracy: 0.8567\n",
      "Epoch 79/100\n",
      "75/75 [==============================] - 0s 3ms/step - loss: 0.1971 - categorical_accuracy: 0.9233 - val_loss: 0.4005 - val_categorical_accuracy: 0.8500\n",
      "Epoch 80/100\n",
      "75/75 [==============================] - 0s 3ms/step - loss: 0.2135 - categorical_accuracy: 0.9125 - val_loss: 0.3557 - val_categorical_accuracy: 0.8833\n",
      "Epoch 81/100\n",
      "75/75 [==============================] - 0s 3ms/step - loss: 0.1991 - categorical_accuracy: 0.9233 - val_loss: 0.3792 - val_categorical_accuracy: 0.8467\n",
      "Epoch 82/100\n",
      "75/75 [==============================] - 0s 3ms/step - loss: 0.1759 - categorical_accuracy: 0.9362 - val_loss: 0.3873 - val_categorical_accuracy: 0.8533\n",
      "Epoch 83/100\n",
      "75/75 [==============================] - 0s 3ms/step - loss: 0.1871 - categorical_accuracy: 0.9283 - val_loss: 0.3765 - val_categorical_accuracy: 0.8867\n",
      "Epoch 84/100\n",
      "75/75 [==============================] - 0s 3ms/step - loss: 0.1798 - categorical_accuracy: 0.9375 - val_loss: 0.5403 - val_categorical_accuracy: 0.7967\n",
      "Epoch 85/100\n",
      "75/75 [==============================] - 0s 3ms/step - loss: 0.1818 - categorical_accuracy: 0.9325 - val_loss: 0.3963 - val_categorical_accuracy: 0.8533\n",
      "Epoch 86/100\n",
      "75/75 [==============================] - 0s 3ms/step - loss: 0.1712 - categorical_accuracy: 0.9383 - val_loss: 0.4072 - val_categorical_accuracy: 0.8400\n",
      "Epoch 87/100\n",
      "75/75 [==============================] - 0s 3ms/step - loss: 0.1827 - categorical_accuracy: 0.9329 - val_loss: 0.3663 - val_categorical_accuracy: 0.8900\n",
      "Epoch 88/100\n",
      "75/75 [==============================] - 0s 3ms/step - loss: 0.1791 - categorical_accuracy: 0.9342 - val_loss: 0.3615 - val_categorical_accuracy: 0.8700\n",
      "Epoch 89/100\n",
      "75/75 [==============================] - 0s 3ms/step - loss: 0.2035 - categorical_accuracy: 0.9212 - val_loss: 0.4067 - val_categorical_accuracy: 0.8400\n",
      "Epoch 90/100\n",
      "75/75 [==============================] - 0s 3ms/step - loss: 0.1876 - categorical_accuracy: 0.9275 - val_loss: 0.3827 - val_categorical_accuracy: 0.8533\n",
      "Epoch 91/100\n",
      "75/75 [==============================] - 0s 3ms/step - loss: 0.1680 - categorical_accuracy: 0.9388 - val_loss: 0.3693 - val_categorical_accuracy: 0.9000\n",
      "Epoch 92/100\n",
      "75/75 [==============================] - 0s 3ms/step - loss: 0.1634 - categorical_accuracy: 0.9383 - val_loss: 0.3605 - val_categorical_accuracy: 0.8900\n",
      "Epoch 93/100\n",
      "75/75 [==============================] - 0s 3ms/step - loss: 0.1518 - categorical_accuracy: 0.9463 - val_loss: 0.3737 - val_categorical_accuracy: 0.8867\n",
      "Epoch 94/100\n",
      "75/75 [==============================] - 0s 3ms/step - loss: 0.1703 - categorical_accuracy: 0.9371 - val_loss: 0.4150 - val_categorical_accuracy: 0.8900\n",
      "Epoch 95/100\n",
      "75/75 [==============================] - 0s 3ms/step - loss: 0.1628 - categorical_accuracy: 0.9413 - val_loss: 0.4060 - val_categorical_accuracy: 0.8467\n",
      "Epoch 96/100\n",
      "75/75 [==============================] - 0s 3ms/step - loss: 0.2048 - categorical_accuracy: 0.9233 - val_loss: 0.3682 - val_categorical_accuracy: 0.8833\n",
      "Epoch 97/100\n",
      "75/75 [==============================] - 0s 3ms/step - loss: 0.1691 - categorical_accuracy: 0.9383 - val_loss: 0.3462 - val_categorical_accuracy: 0.8867\n",
      "Epoch 98/100\n",
      "75/75 [==============================] - 0s 3ms/step - loss: 0.1518 - categorical_accuracy: 0.9433 - val_loss: 0.3931 - val_categorical_accuracy: 0.9000\n",
      "Epoch 99/100\n"
     ]
    },
    {
     "name": "stdout",
     "output_type": "stream",
     "text": [
      "75/75 [==============================] - 0s 3ms/step - loss: 0.1582 - categorical_accuracy: 0.9429 - val_loss: 0.4153 - val_categorical_accuracy: 0.8667\n",
      "Epoch 100/100\n",
      "75/75 [==============================] - 0s 2ms/step - loss: 0.1558 - categorical_accuracy: 0.9429 - val_loss: 0.3768 - val_categorical_accuracy: 0.8933\n"
     ]
    },
    {
     "data": {
      "text/plain": [
       "<keras.callbacks.History at 0x213745511b0>"
      ]
     },
     "execution_count": 284,
     "metadata": {},
     "output_type": "execute_result"
    }
   ],
   "source": [
    "model = Sequential()\n",
    "\n",
    "n_cols = 100\n",
    "\n",
    "model.add(Dense(200, activation='relu', input_shape=(n_cols,)))\n",
    "model.add(Dense(100, activation='relu'))\n",
    "model.add(Dense(60, activation='relu'))\n",
    "model.add(Dense(2,activation='softmax'))\n",
    "model.compile(optimizer=keras.optimizers.Adam(0.001),\n",
    "    loss=\"categorical_crossentropy\",\n",
    "    metrics=[keras.metrics.CategoricalAccuracy()]\n",
    ")\n",
    "model.fit(X_train, y_train, validation_data=(val_x, val_y),epochs=100)"
   ]
  },
  {
   "cell_type": "markdown",
   "id": "61866244",
   "metadata": {},
   "source": [
    "#### Deep network evaluation"
   ]
  },
  {
   "cell_type": "code",
   "execution_count": 285,
   "id": "72bc1bab",
   "metadata": {},
   "outputs": [
    {
     "name": "stdout",
     "output_type": "stream",
     "text": [
      "10/10 [==============================] - 0s 1ms/step - loss: 0.3852 - categorical_accuracy: 0.8633\n"
     ]
    },
    {
     "data": {
      "text/plain": [
       "[0.3851660490036011, 0.8633333444595337]"
      ]
     },
     "execution_count": 285,
     "metadata": {},
     "output_type": "execute_result"
    }
   ],
   "source": [
    "model.evaluate(X_test,y_test)"
   ]
  },
  {
   "cell_type": "code",
   "execution_count": 103,
   "id": "250f3206",
   "metadata": {},
   "outputs": [
    {
     "data": {
      "text/plain": [
       "(1, 100)"
      ]
     },
     "execution_count": 103,
     "metadata": {},
     "output_type": "execute_result"
    }
   ],
   "source": [
    "a=vectorize(preprocess(\"\"\"i hate blacks\"\"\"))\n",
    "a=np.array([a])\n",
    "a.shape"
   ]
  },
  {
   "cell_type": "code",
   "execution_count": 102,
   "id": "c0d23075",
   "metadata": {},
   "outputs": [
    {
     "name": "stdout",
     "output_type": "stream",
     "text": [
      "1/1 [==============================] - 0s 33ms/step\n"
     ]
    },
    {
     "data": {
      "text/plain": [
       "array([[0.06137383, 0.93862617]], dtype=float32)"
      ]
     },
     "execution_count": 102,
     "metadata": {},
     "output_type": "execute_result"
    }
   ],
   "source": [
    "model.predict(a)"
   ]
  },
  {
   "cell_type": "code",
   "execution_count": 92,
   "id": "0799e7fd",
   "metadata": {},
   "outputs": [
    {
     "data": {
      "text/plain": [
       "(1, 100)"
      ]
     },
     "execution_count": 92,
     "metadata": {},
     "output_type": "execute_result"
    }
   ],
   "source": [
    "v=[a]\n",
    "v=np.array(v)\n",
    "v.shape"
   ]
  },
  {
   "cell_type": "markdown",
   "id": "e297473b",
   "metadata": {},
   "source": [
    "# checking if the data imbalance is the cause of less accuracy"
   ]
  },
  {
   "cell_type": "code",
   "execution_count": 130,
   "id": "d034168a",
   "metadata": {},
   "outputs": [],
   "source": [
    "from imblearn.combine import SMOTETomek\n",
    "from imblearn.under_sampling import TomekLinks\n",
    "from imblearn.under_sampling import NearMiss"
   ]
  },
  {
   "cell_type": "code",
   "execution_count": 124,
   "id": "cfe6b6fc",
   "metadata": {},
   "outputs": [],
   "source": [
    "resample=SMOTETomek(tomek=TomekLinks(sampling_strategy='majority'))\n",
    "X, y = resample.fit_resample(X_train, y_train)"
   ]
  },
  {
   "cell_type": "code",
   "execution_count": 125,
   "id": "8e5b3131",
   "metadata": {},
   "outputs": [
    {
     "data": {
      "text/plain": [
       "0        0\n",
       "1        2\n",
       "2        1\n",
       "3        1\n",
       "4        1\n",
       "        ..\n",
       "46039    2\n",
       "46040    2\n",
       "46041    2\n",
       "46042    2\n",
       "46043    2\n",
       "Name: class, Length: 46044, dtype: int64"
      ]
     },
     "execution_count": 125,
     "metadata": {},
     "output_type": "execute_result"
    }
   ],
   "source": [
    "y"
   ]
  },
  {
   "cell_type": "code",
   "execution_count": 141,
   "id": "730385e3",
   "metadata": {},
   "outputs": [],
   "source": [
    "undersample = NearMiss(version=1, n_neighbors=3)\n",
    "X, y = undersample.fit_resample(X_train, y_train)"
   ]
  },
  {
   "cell_type": "code",
   "execution_count": null,
   "id": "e7721b10",
   "metadata": {},
   "outputs": [],
   "source": []
  }
 ],
 "metadata": {
  "kernelspec": {
   "display_name": "Python 3 (ipykernel)",
   "language": "python",
   "name": "python3"
  },
  "language_info": {
   "codemirror_mode": {
    "name": "ipython",
    "version": 3
   },
   "file_extension": ".py",
   "mimetype": "text/x-python",
   "name": "python",
   "nbconvert_exporter": "python",
   "pygments_lexer": "ipython3",
   "version": "3.10.13"
  }
 },
 "nbformat": 4,
 "nbformat_minor": 5
}
